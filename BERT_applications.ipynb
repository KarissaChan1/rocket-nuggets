{
  "nbformat": 4,
  "nbformat_minor": 0,
  "metadata": {
    "colab": {
      "provenance": [],
      "authorship_tag": "ABX9TyNcGfwy8OwkXBGMDGFm+LuX",
      "include_colab_link": true
    },
    "kernelspec": {
      "name": "python3",
      "display_name": "Python 3"
    },
    "language_info": {
      "name": "python"
    }
  },
  "cells": [
    {
      "cell_type": "markdown",
      "metadata": {
        "id": "view-in-github",
        "colab_type": "text"
      },
      "source": [
        "<a href=\"https://colab.research.google.com/github/KarissaChan1/rocket-nuggets/blob/main/BERT_applications.ipynb\" target=\"_parent\"><img src=\"https://colab.research.google.com/assets/colab-badge.svg\" alt=\"Open In Colab\"/></a>"
      ]
    },
    {
      "cell_type": "markdown",
      "source": [
        "BERT and Transformers Documentation in PyTorch: https://pytorch.org/hub/huggingface_pytorch-transformers/\n",
        "\n",
        "Reading up on BERT: https://towardsdatascience.com/bert-explained-state-of-the-art-language-model-for-nlp-f8b21a9b6270\n",
        "\n",
        "Interesting research/application paper using BERT for the Dark Web: https://arxiv.org/abs/2305.08596\n"
      ],
      "metadata": {
        "id": "H-lvBANveYik"
      }
    },
    {
      "cell_type": "markdown",
      "source": [
        "Example on how to use pre-trained BERT to generate word embeddings"
      ],
      "metadata": {
        "id": "3Aj8KZIJd-SX"
      }
    },
    {
      "cell_type": "code",
      "source": [
        "!pip install transformers"
      ],
      "metadata": {
        "colab": {
          "base_uri": "https://localhost:8080/"
        },
        "id": "xCYejY-gS6lT",
        "outputId": "94711008-18a5-410e-b692-aea8c969e0fd"
      },
      "execution_count": null,
      "outputs": [
        {
          "output_type": "stream",
          "name": "stdout",
          "text": [
            "Looking in indexes: https://pypi.org/simple, https://us-python.pkg.dev/colab-wheels/public/simple/\n",
            "Requirement already satisfied: transformers in /usr/local/lib/python3.10/dist-packages (4.29.2)\n",
            "Requirement already satisfied: filelock in /usr/local/lib/python3.10/dist-packages (from transformers) (3.12.0)\n",
            "Requirement already satisfied: huggingface-hub<1.0,>=0.14.1 in /usr/local/lib/python3.10/dist-packages (from transformers) (0.14.1)\n",
            "Requirement already satisfied: numpy>=1.17 in /usr/local/lib/python3.10/dist-packages (from transformers) (1.22.4)\n",
            "Requirement already satisfied: packaging>=20.0 in /usr/local/lib/python3.10/dist-packages (from transformers) (23.1)\n",
            "Requirement already satisfied: pyyaml>=5.1 in /usr/local/lib/python3.10/dist-packages (from transformers) (6.0)\n",
            "Requirement already satisfied: regex!=2019.12.17 in /usr/local/lib/python3.10/dist-packages (from transformers) (2022.10.31)\n",
            "Requirement already satisfied: requests in /usr/local/lib/python3.10/dist-packages (from transformers) (2.27.1)\n",
            "Requirement already satisfied: tokenizers!=0.11.3,<0.14,>=0.11.1 in /usr/local/lib/python3.10/dist-packages (from transformers) (0.13.3)\n",
            "Requirement already satisfied: tqdm>=4.27 in /usr/local/lib/python3.10/dist-packages (from transformers) (4.65.0)\n",
            "Requirement already satisfied: fsspec in /usr/local/lib/python3.10/dist-packages (from huggingface-hub<1.0,>=0.14.1->transformers) (2023.4.0)\n",
            "Requirement already satisfied: typing-extensions>=3.7.4.3 in /usr/local/lib/python3.10/dist-packages (from huggingface-hub<1.0,>=0.14.1->transformers) (4.5.0)\n",
            "Requirement already satisfied: urllib3<1.27,>=1.21.1 in /usr/local/lib/python3.10/dist-packages (from requests->transformers) (1.26.15)\n",
            "Requirement already satisfied: certifi>=2017.4.17 in /usr/local/lib/python3.10/dist-packages (from requests->transformers) (2022.12.7)\n",
            "Requirement already satisfied: charset-normalizer~=2.0.0 in /usr/local/lib/python3.10/dist-packages (from requests->transformers) (2.0.12)\n",
            "Requirement already satisfied: idna<4,>=2.5 in /usr/local/lib/python3.10/dist-packages (from requests->transformers) (3.4)\n"
          ]
        }
      ]
    },
    {
      "cell_type": "code",
      "source": [
        "from transformers import BertTokenizer, BertModel\n",
        "\n",
        "tokenizer = BertTokenizer.from_pretrained('bert-base-uncased')\n",
        "model = BertModel.from_pretrained('bert-base-uncased')\n",
        "\n",
        "text = \"Hello, how are you?\"\n",
        "\n",
        "# Tokenize input text\n",
        "tokens = tokenizer.tokenize(text)\n",
        "print(tokens)\n",
        "print(\"Length tokens: \",len(tokens)) #6\n",
        "\n",
        "# Add special tokens and padding\n",
        "tokens_spec = ['[CLS]'] + tokens + ['[SEP]']  #8\n",
        "print(\"Length after adding special tokens: \",len(tokens_spec))\n",
        "\n",
        "max_length = 10\n",
        "padding_length = max_length - len(tokens_spec)  # Define the desired max_length #2\n",
        "\n",
        "if padding_length > 0:\n",
        "    tokens_padded = tokens_spec + ['[PAD]'] * padding_length\n",
        "else:\n",
        "    tokens_padded = tokens_spec\n",
        "\n",
        "print(\"Length after padding: \",len(tokens_padded)) #10\n",
        "\n",
        "# Convert tokens to input IDs\n",
        "input_ids = tokenizer.convert_tokens_to_ids(tokens_padded)\n",
        "print(\"Tokens: \",input_ids)\n",
        "\n",
        "# generate attention mask\n",
        "attention_mask = [1] * len(tokens_spec)  # Set attention mask to 1 for all input tokens\n",
        "attention_mask += [0] * padding_length  # Set attention to 0 for padding tokens\n",
        "print(\"Attention mask: \",attention_mask)\n",
        "\n",
        "input_ids = torch.tensor(input_ids).unsqueeze(0) # add batch dimension (1)\n",
        "attention_mask = torch.tensor(attention_mask).unsqueeze(0)\n",
        "\n",
        "# get word embeddings using pretrained BERT model\n",
        "with torch.no_grad():\n",
        "    outputs = model(input_ids, attention_mask=attention_mask)\n",
        "    embeddings = outputs.last_hidden_state\n",
        "\n",
        "print(embeddings)\n",
        "print(embeddings.size())"
      ],
      "metadata": {
        "colab": {
          "base_uri": "https://localhost:8080/"
        },
        "id": "UB5uOGD5WTAt",
        "outputId": "f04659ff-e926-48b2-94d2-0c4f8cf5f286"
      },
      "execution_count": null,
      "outputs": [
        {
          "output_type": "stream",
          "name": "stderr",
          "text": [
            "Some weights of the model checkpoint at bert-base-uncased were not used when initializing BertModel: ['cls.predictions.transform.LayerNorm.weight', 'cls.predictions.transform.dense.bias', 'cls.predictions.bias', 'cls.seq_relationship.weight', 'cls.predictions.decoder.weight', 'cls.predictions.transform.dense.weight', 'cls.seq_relationship.bias', 'cls.predictions.transform.LayerNorm.bias']\n",
            "- This IS expected if you are initializing BertModel from the checkpoint of a model trained on another task or with another architecture (e.g. initializing a BertForSequenceClassification model from a BertForPreTraining model).\n",
            "- This IS NOT expected if you are initializing BertModel from the checkpoint of a model that you expect to be exactly identical (initializing a BertForSequenceClassification model from a BertForSequenceClassification model).\n"
          ]
        },
        {
          "output_type": "stream",
          "name": "stdout",
          "text": [
            "['hello', ',', 'how', 'are', 'you', '?']\n",
            "Length tokens:  6\n",
            "Length after adding special tokens:  8\n",
            "Length after padding:  10\n",
            "Tokens:  [101, 7592, 1010, 2129, 2024, 2017, 1029, 102, 0, 0]\n",
            "Attention mask:  [1, 1, 1, 1, 1, 1, 1, 1, 0, 0]\n",
            "tensor([[[-0.0824,  0.0667, -0.2880,  ..., -0.3566,  0.1960,  0.5381],\n",
            "         [ 0.0310, -0.1448,  0.0952,  ..., -0.1560,  1.0151,  0.0947],\n",
            "         [-0.8935,  0.3240,  0.4184,  ..., -0.5498,  0.2853,  0.1149],\n",
            "         ...,\n",
            "         [ 0.5570, -0.1080, -0.2412,  ...,  0.2817, -0.3996, -0.1882],\n",
            "         [-0.0117,  0.1051,  0.4211,  ..., -0.0783,  0.1717, -0.2015],\n",
            "         [-0.2910,  0.0458,  0.2346,  ...,  0.1788,  0.0796, -0.1221]]])\n",
            "torch.Size([1, 10, 768])\n"
          ]
        }
      ]
    },
    {
      "cell_type": "markdown",
      "source": [
        "Very simple example of Fine-Tuning BERT Model for task specific datasets"
      ],
      "metadata": {
        "id": "qGbM9bBtb9IT"
      }
    },
    {
      "cell_type": "code",
      "source": [
        "from transformers import BertTokenizer, BertForSequenceClassification, AdamW\n",
        "import torch\n",
        "tokenizer = BertTokenizer.from_pretrained('bert-base-uncased')\n",
        "model = BertForSequenceClassification.from_pretrained('bert-base-uncased')\n",
        "\n",
        "###################################\n",
        "# Prepare the training data:\n",
        "# Load your task-specific dataset and split it into training examples.\n",
        "# Tokenize the text data using the BERT tokenizer and convert it into tokenized input tensors. Add special tokens and PAD.\n",
        "# Convert the labels/targets of your dataset into numerical values suitable for the specific task (e.g., class indices for classification tasks).\n",
        "# Load train and validation sets using DataLoader\n",
        "###################################\n",
        "\n",
        "# Parameters\n",
        "optimizer = AdamW(model.parameters(), lr=1e-5)  # Choose an appropriate learning rate\n",
        "device = torch.device('cuda' if torch.cuda.is_available() else 'cpu')  # Use GPU if available\n",
        "num_epochs = 20\n",
        "\n",
        "model.to(device)\n",
        "model.train() # set model in training mode\n",
        "\n",
        "# Train loop:\n",
        "for epoch in range(num_epochs):\n",
        "    for batch in train_dataloader:\n",
        "        optimizer.zero_grad()\n",
        "        inputs = batch['input_ids'].to(device)\n",
        "        labels = batch['labels'].to(device)\n",
        "        outputs = model(inputs, labels=labels)\n",
        "        loss = outputs.loss\n",
        "        loss.backward()\n",
        "        optimizer.step()\n",
        "\n",
        "# Evaluate the model\n",
        "model.eval()\n",
        "with torch.no_grad():\n",
        "    for batch in validation_dataloader:\n",
        "        inputs = batch['input_ids'].to(device)\n",
        "        labels = batch['labels'].to(device)\n",
        "        outputs = model(inputs, labels=labels)\n",
        "        \n",
        "        # Evaluate metrics or compute accuracy\n",
        "\n",
        "\n",
        "        ####################\n",
        "\n",
        "torch.save(model.state_dict(), 'fine_tuned_bert_model.pth')\n",
        "\n",
        "# To load the model later\n",
        "model.load_state_dict(torch.load('fine_tuned_bert_model.pth'))\n"
      ],
      "metadata": {
        "id": "SJGDxocpbb-U"
      },
      "execution_count": null,
      "outputs": []
    }
  ]
}